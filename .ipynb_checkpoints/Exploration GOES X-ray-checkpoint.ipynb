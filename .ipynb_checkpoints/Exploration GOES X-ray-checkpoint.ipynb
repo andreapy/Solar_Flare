{
 "cells": [
  {
   "cell_type": "markdown",
   "id": "d25ca157",
   "metadata": {},
   "source": [
    "## GOES 16 and 17\n",
    "\n",
    "#### 1 Day (1 minute data)\n",
    "GOES: Geostationary Operational Environmental Satellite X-Ray Sensor. \n",
    "\n",
    "Data from two Satellites (GOES 16 and 17) in two bands of wavelength 0.05-0.4 nm (SHORT) and 0.1-0.8 nm (LONG).\n",
    "\n",
    "#### Flares classes: A, B, C, M and X [Watts/m²]. Soft X-rays with 0.1 to 0.8 nm \n",
    "\n",
    "B: $I<10^{-6}$\n",
    "\n",
    "C: $10^{-6}<=I<10^{-5}$\n",
    "\n",
    "M: $10^{-5}<=I<10^{-4}$\n",
    "\n",
    "X: $I>=10^{-4}$\n",
    "\n",
    "\n",
    "\n",
    "A being the tiniest and X being the largest. Each category has nine subdivisions. These are logarithmic scales. "
   ]
  },
  {
   "cell_type": "code",
   "execution_count": 1,
   "id": "150ce4fb",
   "metadata": {},
   "outputs": [],
   "source": [
    "import numpy as np\n",
    "import pandas as pd\n",
    "import math\n"
   ]
  },
  {
   "cell_type": "code",
   "execution_count": 2,
   "id": "70b6c8df",
   "metadata": {
    "scrolled": true
   },
   "outputs": [
    {
     "data": {
      "text/html": [
       "<div>\n",
       "<style scoped>\n",
       "    .dataframe tbody tr th:only-of-type {\n",
       "        vertical-align: middle;\n",
       "    }\n",
       "\n",
       "    .dataframe tbody tr th {\n",
       "        vertical-align: top;\n",
       "    }\n",
       "\n",
       "    .dataframe thead th {\n",
       "        text-align: right;\n",
       "    }\n",
       "</style>\n",
       "<table border=\"1\" class=\"dataframe\">\n",
       "  <thead>\n",
       "    <tr style=\"text-align: right;\">\n",
       "      <th></th>\n",
       "      <th>time_tag</th>\n",
       "      <th>satellite</th>\n",
       "      <th>flux</th>\n",
       "      <th>observed_flux</th>\n",
       "      <th>electron_correction</th>\n",
       "      <th>electron_contaminaton</th>\n",
       "      <th>energy</th>\n",
       "    </tr>\n",
       "  </thead>\n",
       "  <tbody>\n",
       "    <tr>\n",
       "      <th>0</th>\n",
       "      <td>2022-04-25T02:02:00Z</td>\n",
       "      <td>16</td>\n",
       "      <td>0.000001</td>\n",
       "      <td>0.000001</td>\n",
       "      <td>1.253398e-08</td>\n",
       "      <td>False</td>\n",
       "      <td>0.05-0.4nm</td>\n",
       "    </tr>\n",
       "    <tr>\n",
       "      <th>1</th>\n",
       "      <td>2022-04-25T02:02:00Z</td>\n",
       "      <td>16</td>\n",
       "      <td>0.000013</td>\n",
       "      <td>0.000013</td>\n",
       "      <td>4.346743e-08</td>\n",
       "      <td>False</td>\n",
       "      <td>0.1-0.8nm</td>\n",
       "    </tr>\n",
       "    <tr>\n",
       "      <th>2</th>\n",
       "      <td>2022-04-25T02:03:00Z</td>\n",
       "      <td>16</td>\n",
       "      <td>0.000001</td>\n",
       "      <td>0.000001</td>\n",
       "      <td>1.245440e-08</td>\n",
       "      <td>False</td>\n",
       "      <td>0.05-0.4nm</td>\n",
       "    </tr>\n",
       "    <tr>\n",
       "      <th>3</th>\n",
       "      <td>2022-04-25T02:03:00Z</td>\n",
       "      <td>16</td>\n",
       "      <td>0.000012</td>\n",
       "      <td>0.000012</td>\n",
       "      <td>4.343585e-08</td>\n",
       "      <td>False</td>\n",
       "      <td>0.1-0.8nm</td>\n",
       "    </tr>\n",
       "    <tr>\n",
       "      <th>4</th>\n",
       "      <td>2022-04-25T02:04:00Z</td>\n",
       "      <td>16</td>\n",
       "      <td>0.000001</td>\n",
       "      <td>0.000001</td>\n",
       "      <td>1.292649e-08</td>\n",
       "      <td>False</td>\n",
       "      <td>0.05-0.4nm</td>\n",
       "    </tr>\n",
       "  </tbody>\n",
       "</table>\n",
       "</div>"
      ],
      "text/plain": [
       "               time_tag  satellite      flux  observed_flux  \\\n",
       "0  2022-04-25T02:02:00Z         16  0.000001       0.000001   \n",
       "1  2022-04-25T02:02:00Z         16  0.000013       0.000013   \n",
       "2  2022-04-25T02:03:00Z         16  0.000001       0.000001   \n",
       "3  2022-04-25T02:03:00Z         16  0.000012       0.000012   \n",
       "4  2022-04-25T02:04:00Z         16  0.000001       0.000001   \n",
       "\n",
       "   electron_correction  electron_contaminaton      energy  \n",
       "0         1.253398e-08                  False  0.05-0.4nm  \n",
       "1         4.346743e-08                  False   0.1-0.8nm  \n",
       "2         1.245440e-08                  False  0.05-0.4nm  \n",
       "3         4.343585e-08                  False   0.1-0.8nm  \n",
       "4         1.292649e-08                  False  0.05-0.4nm  "
      ]
     },
     "execution_count": 2,
     "metadata": {},
     "output_type": "execute_result"
    }
   ],
   "source": [
    "goes_oneday = pd.read_json(\"xrays-1-day.json\", orient=\"columns\")\n",
    "goes_oneday.head()"
   ]
  },
  {
   "cell_type": "code",
   "execution_count": 3,
   "id": "1c3bec32",
   "metadata": {},
   "outputs": [
    {
     "name": "stdout",
     "output_type": "stream",
     "text": [
      "<class 'pandas.core.frame.DataFrame'>\n",
      "RangeIndex: 2876 entries, 0 to 2875\n",
      "Data columns (total 7 columns):\n",
      " #   Column                 Non-Null Count  Dtype  \n",
      "---  ------                 --------------  -----  \n",
      " 0   time_tag               2876 non-null   object \n",
      " 1   satellite              2876 non-null   int64  \n",
      " 2   flux                   2876 non-null   float64\n",
      " 3   observed_flux          2876 non-null   float64\n",
      " 4   electron_correction    2876 non-null   float64\n",
      " 5   electron_contaminaton  2876 non-null   bool   \n",
      " 6   energy                 2876 non-null   object \n",
      "dtypes: bool(1), float64(3), int64(1), object(2)\n",
      "memory usage: 137.7+ KB\n"
     ]
    }
   ],
   "source": [
    "goes_oneday.info()"
   ]
  },
  {
   "cell_type": "markdown",
   "id": "d1d53d24",
   "metadata": {},
   "source": [
    "$$ E=\\frac{hc}{\\lambda}$$\n",
    "\n",
    "E: Photon Energy\n",
    "\n",
    "$\\lambda$: photon wavelength\n",
    "\n",
    "c: Speed of light\n",
    "\n",
    "h: Planck constant"
   ]
  },
  {
   "cell_type": "code",
   "execution_count": 4,
   "id": "e2aae8a6",
   "metadata": {},
   "outputs": [
    {
     "data": {
      "text/plain": [
       "0.05-0.4nm    1438\n",
       "0.1-0.8nm     1438\n",
       "Name: energy, dtype: int64"
      ]
     },
     "execution_count": 4,
     "metadata": {},
     "output_type": "execute_result"
    }
   ],
   "source": [
    "# Wavelenght band (Energy)\n",
    "goes_oneday['energy'].value_counts()"
   ]
  },
  {
   "cell_type": "code",
   "execution_count": 5,
   "id": "b743f708",
   "metadata": {},
   "outputs": [
    {
     "data": {
      "text/plain": [
       "False    2872\n",
       "True        4\n",
       "Name: electron_contaminaton, dtype: int64"
      ]
     },
     "execution_count": 5,
     "metadata": {},
     "output_type": "execute_result"
    }
   ],
   "source": [
    "# Electron Contamination\n",
    "goes_oneday['electron_contaminaton'].value_counts()"
   ]
  },
  {
   "cell_type": "code",
   "execution_count": 6,
   "id": "b9d446c8",
   "metadata": {},
   "outputs": [
    {
     "data": {
      "text/plain": [
       "16    2876\n",
       "Name: satellite, dtype: int64"
      ]
     },
     "execution_count": 6,
     "metadata": {},
     "output_type": "execute_result"
    }
   ],
   "source": [
    "# Satellite\n",
    "goes_oneday['satellite'].value_counts()"
   ]
  },
  {
   "cell_type": "code",
   "execution_count": 7,
   "id": "bd622168",
   "metadata": {},
   "outputs": [
    {
     "data": {
      "text/plain": [
       "0   2022-04-25 02:02:00+00:00\n",
       "1   2022-04-25 02:02:00+00:00\n",
       "2   2022-04-25 02:03:00+00:00\n",
       "3   2022-04-25 02:03:00+00:00\n",
       "4   2022-04-25 02:04:00+00:00\n",
       "Name: time_tag, dtype: datetime64[ns, UTC]"
      ]
     },
     "execution_count": 7,
     "metadata": {},
     "output_type": "execute_result"
    }
   ],
   "source": [
    "goes_oneday['time_tag']=pd.to_datetime(goes_oneday['time_tag'])\n",
    "goes_oneday['time_tag'].head()"
   ]
  },
  {
   "cell_type": "code",
   "execution_count": 8,
   "id": "feffcad9",
   "metadata": {
    "scrolled": true
   },
   "outputs": [
    {
     "name": "stdout",
     "output_type": "stream",
     "text": [
      "<class 'pandas.core.frame.DataFrame'>\n",
      "RangeIndex: 2876 entries, 0 to 2875\n",
      "Data columns (total 7 columns):\n",
      " #   Column                 Non-Null Count  Dtype              \n",
      "---  ------                 --------------  -----              \n",
      " 0   time_tag               2876 non-null   datetime64[ns, UTC]\n",
      " 1   satellite              2876 non-null   int64              \n",
      " 2   flux                   2876 non-null   float64            \n",
      " 3   observed_flux          2876 non-null   float64            \n",
      " 4   electron_correction    2876 non-null   float64            \n",
      " 5   electron_contaminaton  2876 non-null   bool               \n",
      " 6   energy                 2876 non-null   object             \n",
      "dtypes: bool(1), datetime64[ns, UTC](1), float64(3), int64(1), object(1)\n",
      "memory usage: 137.7+ KB\n"
     ]
    }
   ],
   "source": [
    "goes_oneday.info()"
   ]
  },
  {
   "cell_type": "code",
   "execution_count": 10,
   "id": "9450eeab",
   "metadata": {},
   "outputs": [
    {
     "data": {
      "text/plain": [
       "<matplotlib.patches.Polygon at 0x7ff953377a90>"
      ]
     },
     "execution_count": 10,
     "metadata": {},
     "output_type": "execute_result"
    },
    {
     "data": {
      "image/png": "[encoded data removed]",
      "text/plain": [
       "<Figure size 432x288 with 1 Axes>"
      ]
     },
     "metadata": {
      "needs_background": "light"
     },
     "output_type": "display_data"
    }
   ],
   "source": [
    "ax = goes_oneday.pivot(index='time_tag', columns='energy', values='flux').plot(logy=True)\n",
    "\n",
    "# Add horizontals shaded region\n",
    "ax.axhspan(10e-7,10e-6,color='green',alpha=0.2)\n",
    "ax.axhspan(10e-6,10e-5,color='orange',alpha=0.2)\n",
    "ax.axhspan(10e-5,10e-4,color='red',alpha=0.2)"
   ]
  },
  {
   "cell_type": "markdown",
   "id": "2c08055f",
   "metadata": {},
   "source": [
    "The two wavelenght band are kind of doing the same thing in the time. There are coherent oscillations dynamics in this data at least some of the time. Each wavelength band for the satellite 16 is not truly statistically independent. "
   ]
  },
  {
   "cell_type": "code",
   "execution_count": 11,
   "id": "e6f217e4",
   "metadata": {},
   "outputs": [
    {
     "name": "stdout",
     "output_type": "stream",
     "text": [
      "Correlation of wavelength:  0.9118206240541729\n",
      "Correlation of changes:  0.8960806808041182\n"
     ]
    }
   ],
   "source": [
    "goes_one = goes_oneday.pivot(index='time_tag', columns='energy', values='flux')\n",
    "\n",
    "# Compute correlation of goes_one different wavelenght\n",
    "correlation1 = goes_one['0.05-0.4nm'].corr(goes_one['0.1-0.8nm'])\n",
    "print(\"Correlation of wavelength: \",correlation1)\n",
    "\n",
    "# Compute correlation of percent changes\n",
    "changes = goes_one.pct_change()\n",
    "correlation2 = changes['0.05-0.4nm'].corr(changes['0.1-0.8nm'])\n",
    "print(\"Correlation of changes: \",correlation2)"
   ]
  },
  {
   "cell_type": "markdown",
   "id": "35affbc9",
   "metadata": {},
   "source": [
    "The flux in different wavelenght for the GOES 16 are correlated (strong correlation). Then calculate the correlation of their percent changes (there are then relationship between those two series) "
   ]
  },
  {
   "cell_type": "code",
   "execution_count": null,
   "id": "bf44cdbd",
   "metadata": {},
   "outputs": [],
   "source": []
  },
  {
   "cell_type": "code",
   "execution_count": null,
   "id": "7ccb8e67",
   "metadata": {},
   "outputs": [],
   "source": []
  }
 ],
 "metadata": {
  "kernelspec": {
   "display_name": "Python 3",
   "language": "python",
   "name": "python3"
  },
  "language_info": {
   "codemirror_mode": {
    "name": "ipython",
    "version": 3
   },
   "file_extension": ".py",
   "mimetype": "text/x-python",
   "name": "python",
   "nbconvert_exporter": "python",
   "pygments_lexer": "ipython3",
   "version": "3.8.8"
  }
 },
 "nbformat": 4,
 "nbformat_minor": 5
}
